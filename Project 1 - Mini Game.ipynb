{
 "cells": [
  {
   "cell_type": "code",
   "execution_count": null,
   "metadata": {},
   "outputs": [],
   "source": [
    "# MINI GAME: PALADIN vs BUGBEAR"
   ]
  },
  {
   "cell_type": "code",
   "execution_count": 2,
   "metadata": {},
   "outputs": [
    {
     "name": "stdout",
     "output_type": "stream",
     "text": [
      "Roll dice!\n",
      "Paladin rolls a 7!\n",
      "Bugbear has now 93 hit points left...\n"
     ]
    }
   ],
   "source": [
    "from random import randint\n",
    "\n",
    "x = randint(1,21)\n",
    "def bugbear_roll(x):\n",
    "    bugbear_roll = x\n",
    "    return bugbear_roll\n",
    "# print(f'Bugbear rolls a {bugbear_roll(x)}!')\n",
    "\n",
    "y = randint(1,21)\n",
    "def paladin_roll(y):\n",
    "    paladin_roll = y\n",
    "    return paladin_roll\n",
    "# print(f'Paladin rolls a {paladin_roll(y)}!')\n",
    "\n",
    "bugbear_hp = 100\n",
    "paladin_strikes = 0\n",
    "\n",
    "z = input('Roll dice!')    \n",
    "if z == \"\":\n",
    "    print(f'Paladin rolls a {paladin_roll(y)}!')\n",
    "    print(f'Bugbear has now {bugbear_hp - paladin_roll(y)} hit points left...')"
   ]
  },
  {
   "cell_type": "code",
   "execution_count": 29,
   "metadata": {},
   "outputs": [
    {
     "name": "stdout",
     "output_type": "stream",
     "text": [
      "Strike! (Press enter to roll a D20)\n",
      "Paladin rolls a 12!\n",
      "You draw your sword and slashes the beast taking 17 of damage\n"
     ]
    }
   ],
   "source": [
    "from random import randint\n",
    "\n",
    "strike_try = 10\n",
    "\n",
    "p_try = randint(1,21)\n",
    "p_action = randint(1,21)\n",
    "\n",
    "def roll(y):\n",
    "    roll = (y)\n",
    "    return roll\n",
    "#print(f'Paladin rolls a {paladin_roll(y)}!')\n",
    "\n",
    "roll_dice = input('Strike! (Press enter to roll a D20)')\n",
    "\n",
    "if roll_dice == \"\":\n",
    "    print(f'Paladin rolls a {roll(p_try)}!')\n",
    "    if roll(p_try) >= 5:\n",
    "        print(f'You draw your sword and slashes the beast taking {roll(p_action)} of damage')\n",
    "    else:\n",
    "        print('You slipped and fell with your face on the mud')"
   ]
  }
 ],
 "metadata": {
  "kernelspec": {
   "display_name": "Python 3",
   "language": "python",
   "name": "python3"
  },
  "language_info": {
   "codemirror_mode": {
    "name": "ipython",
    "version": 3
   },
   "file_extension": ".py",
   "mimetype": "text/x-python",
   "name": "python",
   "nbconvert_exporter": "python",
   "pygments_lexer": "ipython3",
   "version": "3.8.5"
  }
 },
 "nbformat": 4,
 "nbformat_minor": 4
}
